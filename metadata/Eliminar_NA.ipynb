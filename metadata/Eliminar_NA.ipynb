{
 "cells": [
  {
   "cell_type": "code",
   "execution_count": 13,
   "id": "634e0385",
   "metadata": {},
   "outputs": [],
   "source": [
    "import sqlite3\n",
    "import openpyxl\n",
    "import pandas as pd\n",
    "    \n",
    "    \n",
    "df = pd.read_csv('OTUS_metadata.tsv', sep='\\t', header=0)\n",
    "\n",
    "#Reemplazar 'NA' por espacios vacíos\n",
    "df = df.fillna('')\n",
    "\n",
    "df.to_csv('OTUs_merged.csv', header=True, index=False)\n"
   ]
  },
  {
   "cell_type": "code",
   "execution_count": null,
   "id": "51769e7d",
   "metadata": {},
   "outputs": [],
   "source": []
  }
 ],
 "metadata": {
  "kernelspec": {
   "display_name": "Python 3",
   "language": "python",
   "name": "python3"
  },
  "language_info": {
   "codemirror_mode": {
    "name": "ipython",
    "version": 3
   },
   "file_extension": ".py",
   "mimetype": "text/x-python",
   "name": "python",
   "nbconvert_exporter": "python",
   "pygments_lexer": "ipython3",
   "version": "3.9.2"
  }
 },
 "nbformat": 4,
 "nbformat_minor": 5
}
